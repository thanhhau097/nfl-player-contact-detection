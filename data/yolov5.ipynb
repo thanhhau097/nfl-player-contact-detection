{
 "cells": [
  {
   "cell_type": "code",
   "execution_count": null,
   "id": "6b391acf-8e31-4b1d-bf80-d676a7d30f94",
   "metadata": {},
   "outputs": [],
   "source": [
    "import pandas as pd"
   ]
  },
  {
   "cell_type": "code",
   "execution_count": null,
   "id": "6a89ddff-b6cb-49df-a4a9-1341a47c0371",
   "metadata": {},
   "outputs": [],
   "source": [
    "def get_iou(bb1, bb2):\n",
    "    \"\"\"\n",
    "    Calculate the Intersection over Union (IoU) of two bounding boxes.\n",
    "\n",
    "    Parameters\n",
    "    ----------\n",
    "    bb1 : dict\n",
    "        Keys: {'x1', 'x2', 'y1', 'y2'}\n",
    "        The (x1, y1) position is at the top left corner,\n",
    "        the (x2, y2) position is at the bottom right corner\n",
    "    bb2 : dict\n",
    "        Keys: {'x1', 'x2', 'y1', 'y2'}\n",
    "        The (x, y) position is at the top left corner,\n",
    "        the (x2, y2) position is at the bottom right corner\n",
    "\n",
    "    Returns\n",
    "    -------\n",
    "    float\n",
    "        in [0, 1]\n",
    "    \"\"\"\n",
    "    assert bb1['x1'] < bb1['x2']\n",
    "    assert bb1['y1'] < bb1['y2']\n",
    "    assert bb2['x1'] < bb2['x2']\n",
    "    assert bb2['y1'] < bb2['y2']\n",
    "\n",
    "    # determine the coordinates of the intersection rectangle\n",
    "    x_left = max(bb1['x1'], bb2['x1'])\n",
    "    y_top = max(bb1['y1'], bb2['y1'])\n",
    "    x_right = min(bb1['x2'], bb2['x2'])\n",
    "    y_bottom = min(bb1['y2'], bb2['y2'])\n",
    "\n",
    "    if x_right < x_left or y_bottom < y_top:\n",
    "        return 0.0\n",
    "\n",
    "    # The intersection of two axis-aligned bounding boxes is always an\n",
    "    # axis-aligned bounding box\n",
    "    intersection_area = (x_right - x_left) * (y_bottom - y_top)\n",
    "\n",
    "    # compute the area of both AABBs\n",
    "    bb1_area = (bb1['x2'] - bb1['x1']) * (bb1['y2'] - bb1['y1'])\n",
    "    bb2_area = (bb2['x2'] - bb2['x1']) * (bb2['y2'] - bb2['y1'])\n",
    "\n",
    "    # compute the intersection over union by taking the intersection\n",
    "    # area and dividing it by the sum of prediction + ground-truth\n",
    "    # areas - the interesection area\n",
    "    iou = intersection_area / float(bb1_area + bb2_area - intersection_area)\n",
    "    assert iou >= 0.0\n",
    "    assert iou <= 1.0\n",
    "    return iou\n"
   ]
  },
  {
   "cell_type": "code",
   "execution_count": null,
   "id": "415a9698-dafe-4705-8368-5deecc4b6986",
   "metadata": {},
   "outputs": [],
   "source": [
    "data = pd.read_csv(\"train_baseline_helmets.csv\")"
   ]
  },
  {
   "cell_type": "code",
   "execution_count": null,
   "id": "d2f55830-0d7a-4d69-98f0-c17dae07d4a5",
   "metadata": {},
   "outputs": [],
   "source": [
    "data"
   ]
  },
  {
   "cell_type": "code",
   "execution_count": null,
   "id": "54c12105-73f0-4028-beae-ef23ff402f44",
   "metadata": {},
   "outputs": [],
   "source": [
    "import os\n",
    "\n",
    "paths = {}\n",
    "for filename in os.listdir(\"train_frames/0\"):\n",
    "    paths[filename] = os.path.join(\"train_frames/0\", filename)\n",
    "    \n",
    "for filename in os.listdir(\"val_frames/0\"):\n",
    "    paths[filename] = os.path.join(\"val_frames/0\", filename)"
   ]
  },
  {
   "cell_type": "code",
   "execution_count": null,
   "id": "74405176-f3de-40ca-97a3-aefad9419e55",
   "metadata": {},
   "outputs": [],
   "source": [
    "from tqdm import tqdm\n",
    "\n",
    "df_paths = []\n",
    "for index, row in tqdm(data.iterrows()):\n",
    "    path = row[\"video\"] + \"_\" + \"0\" * (4 - len(str(row[\"frame\"]))) + str(row[\"frame\"])\n",
    "    df_paths.append(path)"
   ]
  },
  {
   "cell_type": "code",
   "execution_count": null,
   "id": "5fdf4fa5-7f64-49ee-9476-2c17a624a025",
   "metadata": {},
   "outputs": [],
   "source": [
    "data[\"path\"] = [path + \".jpg\" for path in df_paths]"
   ]
  },
  {
   "cell_type": "code",
   "execution_count": null,
   "id": "b68d9525-5503-48ff-8d2f-39e23ff801e9",
   "metadata": {},
   "outputs": [],
   "source": [
    "data"
   ]
  },
  {
   "cell_type": "code",
   "execution_count": null,
   "id": "3122d953-7264-41b1-a9a1-3ad4124324f8",
   "metadata": {
    "scrolled": true,
    "tags": []
   },
   "outputs": [],
   "source": [
    "intersection_paths = list(set(data[\"path\"]).intersection(set(paths.keys())))"
   ]
  },
  {
   "cell_type": "code",
   "execution_count": null,
   "id": "0735a4e5-547d-4d07-8ba7-eb80b766a4ac",
   "metadata": {},
   "outputs": [],
   "source": [
    "from PIL import Image\n",
    "import numpy as np\n",
    "import cv2"
   ]
  },
  {
   "cell_type": "code",
   "execution_count": null,
   "id": "0bf13456-911c-4dda-b450-531f6a09ac0a",
   "metadata": {},
   "outputs": [],
   "source": [
    "import torch\n",
    "\n",
    "# Model\n",
    "model = torch.hub.load('ultralytics/yolov5', 'yolov5l')  # or yolov5n - yolov5x6, custom\n",
    "model.conf = 0.20  # NMS confidence threshold\n",
    "model.iou = 0.70  # NMS IoU threshold\n",
    "model.agnostic = False  # NMS class-agnostic\n",
    "model.multi_label = False  # NMS multiple labels per box\n",
    "model.classes = [0]  # (optional list) filter by class, i.e. = [0, 15, 16] for COCO persons, cats and dogs\n",
    "model.max_det = 1000  # maximum number of detections per image\n",
    "model.amp = False  # Automatic Mixed Precision (AMP) inference\n",
    "\n",
    "# Blue color in BGR\n",
    "color = (255, 0, 0)\n",
    "  \n",
    "# Line thickness of 2 px\n",
    "thickness = 2"
   ]
  },
  {
   "cell_type": "code",
   "execution_count": null,
   "id": "77bcb466-b11d-450c-877b-cd32eedfd87b",
   "metadata": {},
   "outputs": [],
   "source": [
    "data[\"x1\"] = 0\n",
    "data[\"y1\"] = 0\n",
    "data[\"x2\"] = 0\n",
    "data[\"y2\"] = 0"
   ]
  },
  {
   "cell_type": "code",
   "execution_count": null,
   "id": "1c49fd5f-384e-447e-a802-04207ddc063b",
   "metadata": {
    "scrolled": true,
    "tags": []
   },
   "outputs": [],
   "source": [
    "for path in tqdm(intersection_paths):\n",
    "    image = Image.open(paths[path])\n",
    "    image = np.array(image)\n",
    "\n",
    "    results = model(image)\n",
    "\n",
    "    best_boxes = []\n",
    "\n",
    "    for i, row in data[data[\"path\"] == path].iterrows():\n",
    "        x1, y1, x2, y2 = int(row[\"left\"]), int(row[\"top\"]), int(row[\"left\"]) + int(row[\"width\"]), int(row[\"top\"]) + int(row[\"height\"])\n",
    "\n",
    "        best_iou, best_box = 0, []\n",
    "        for box in results.xywh[0].int().numpy():\n",
    "            x, y, w, h = box[:4]\n",
    "            box_x1 = x - w // 2\n",
    "            box_y1 = y - h // 2\n",
    "            box_x2 = x + w // 2\n",
    "            box_y2 = y + h // 2\n",
    "\n",
    "            iou = get_iou(\n",
    "                {\"x1\": x1, \"y1\": y1, \"x2\": x2, \"y2\": y2},\n",
    "                {\"x1\": box_x1, \"y1\": box_y1, \"x2\": box_x2, \"y2\": y}\n",
    "            )\n",
    "\n",
    "            if iou > best_iou:\n",
    "                best_iou = iou\n",
    "                best_box = [box_x1, box_y1, box_x2, box_y2]\n",
    "\n",
    "        if len(best_box) == 0:\n",
    "            best_box = [x1 - 128, y1 - 128, x1 + 128, y1 + 128]\n",
    "\n",
    "        data.loc[i, \"x1\"] = best_box[0]\n",
    "        data.loc[i, \"y1\"] = best_box[1]\n",
    "        data.loc[i, \"x2\"] = best_box[2]\n",
    "        data.loc[i, \"y2\"] = best_box[3]\n",
    "\n",
    "        best_boxes.append(best_box)\n",
    "\n",
    "#     for x1, y1, x2, y2 in best_boxes:\n",
    "#         image = cv2.rectangle(\n",
    "#             image,\n",
    "#             [x1, y1], [x2, y2],\n",
    "#             [0, 0, 255],\n",
    "#             thickness\n",
    "#         )\n",
    "\n",
    "#     Image.fromarray(image)"
   ]
  },
  {
   "cell_type": "code",
   "execution_count": null,
   "id": "c0145418-2706-4095-8d78-e52d1efae329",
   "metadata": {
    "scrolled": true,
    "tags": []
   },
   "outputs": [],
   "source": [
    "data[data[\"x1\"] != 0]"
   ]
  },
  {
   "cell_type": "code",
   "execution_count": null,
   "id": "4227e594-c9ae-4d3f-96c8-2f28d0405419",
   "metadata": {},
   "outputs": [],
   "source": [
    "data.to_csv(\"train_baseline_helmets_boxes.csv\")"
   ]
  },
  {
   "cell_type": "code",
   "execution_count": null,
   "id": "be489ee6-cdba-481f-a3cc-919f95461e3b",
   "metadata": {},
   "outputs": [],
   "source": []
  }
 ],
 "metadata": {
  "kernelspec": {
   "display_name": "Python 3 (ipykernel)",
   "language": "python",
   "name": "python3"
  },
  "language_info": {
   "codemirror_mode": {
    "name": "ipython",
    "version": 3
   },
   "file_extension": ".py",
   "mimetype": "text/x-python",
   "name": "python",
   "nbconvert_exporter": "python",
   "pygments_lexer": "ipython3",
   "version": "3.8.0"
  }
 },
 "nbformat": 4,
 "nbformat_minor": 5
}
